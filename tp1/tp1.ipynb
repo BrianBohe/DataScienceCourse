{
 "cells": [
  {
   "cell_type": "code",
   "execution_count": 1,
   "metadata": {},
   "outputs": [
    {
     "name": "stdout",
     "output_type": "stream",
     "text": [
      "[[   1.    11.1   11.3   19.4]\n",
      " [   2.    13.    12.8   18.2]\n",
      " [   3.    16.1   16.    19. ]\n",
      " [   4.    14.5   14.1   18.9]\n",
      " [   5.    12.    12.5   19.1]\n",
      " [   6.    11.    11.6   18.7]\n",
      " [   7.    15.1   14.6  189. ]\n",
      " [   8.    14.4   14.2   19.9]\n",
      " [   9.    16.1   16.1   18.5]\n",
      " [  10.    17.    16.7   19.2]\n",
      " [  11.    12.2   12.4   18.8]\n",
      " [  12.    14.4   14.1   19.2]]\n"
     ]
    }
   ],
   "source": [
    "# Imports needed and load dataset\n",
    "\n",
    "import seaborn as sns\n",
    "import numpy as np\n",
    "from scipy import stats\n",
    "\n",
    "# Row 1 is the header\n",
    "arr = np.loadtxt(\"tiempos.txt\", skiprows=1)\n",
    "print(arr)"
   ]
  },
  {
   "cell_type": "code",
   "execution_count": 2,
   "metadata": {},
   "outputs": [
    {
     "data": {
      "text/plain": [
       "'/usr/local/opt/python3/bin/python3.6'"
      ]
     },
     "execution_count": 2,
     "metadata": {},
     "output_type": "execute_result"
    }
   ],
   "source": [
    "import sys\n",
    "sys.executable"
   ]
  },
  {
   "cell_type": "code",
   "execution_count": 3,
   "metadata": {},
   "outputs": [
    {
     "name": "stdout",
     "output_type": "stream",
     "text": [
      "/Users/bbohe/Library/Jupyter\n"
     ]
    }
   ],
   "source": [
    "from jupyter_core.paths import jupyter_data_dir\n",
    "print(jupyter_data_dir())"
   ]
  },
  {
   "cell_type": "code",
   "execution_count": 4,
   "metadata": {},
   "outputs": [
    {
     "ename": "AttributeError",
     "evalue": "module 'seaborn' has no attribute 'plt'",
     "output_type": "error",
     "traceback": [
      "\u001b[0;31m---------------------------------------------------------------------------\u001b[0m",
      "\u001b[0;31mAttributeError\u001b[0m                            Traceback (most recent call last)",
      "\u001b[0;32m<ipython-input-4-a3018fae037b>\u001b[0m in \u001b[0;36m<module>\u001b[0;34m()\u001b[0m\n\u001b[1;32m      1\u001b[0m \u001b[0;31m# First: plot the data and look\u001b[0m\u001b[0;34m\u001b[0m\u001b[0;34m\u001b[0m\u001b[0m\n\u001b[1;32m      2\u001b[0m \u001b[0;34m\u001b[0m\u001b[0m\n\u001b[0;32m----> 3\u001b[0;31m \u001b[0msns\u001b[0m\u001b[0;34m.\u001b[0m\u001b[0mplt\u001b[0m\u001b[0;34m.\u001b[0m\u001b[0mscatter\u001b[0m\u001b[0;34m(\u001b[0m\u001b[0marr\u001b[0m\u001b[0;34m[\u001b[0m\u001b[0;34m:\u001b[0m\u001b[0;34m,\u001b[0m\u001b[0;36m1\u001b[0m\u001b[0;34m]\u001b[0m\u001b[0;34m,\u001b[0m \u001b[0mcolor\u001b[0m\u001b[0;34m=\u001b[0m\u001b[0;34m\"r\"\u001b[0m\u001b[0;34m)\u001b[0m\u001b[0;34m\u001b[0m\u001b[0m\n\u001b[0m\u001b[1;32m      4\u001b[0m \u001b[0msns\u001b[0m\u001b[0;34m.\u001b[0m\u001b[0mplt\u001b[0m\u001b[0;34m.\u001b[0m\u001b[0mscatter\u001b[0m\u001b[0;34m(\u001b[0m\u001b[0marr\u001b[0m\u001b[0;34m[\u001b[0m\u001b[0;34m:\u001b[0m\u001b[0;34m,\u001b[0m\u001b[0;36m2\u001b[0m\u001b[0;34m]\u001b[0m\u001b[0;34m,\u001b[0m \u001b[0mcolor\u001b[0m\u001b[0;34m=\u001b[0m\u001b[0;34m\"g\"\u001b[0m\u001b[0;34m)\u001b[0m\u001b[0;34m\u001b[0m\u001b[0m\n\u001b[1;32m      5\u001b[0m \u001b[0msns\u001b[0m\u001b[0;34m.\u001b[0m\u001b[0mplt\u001b[0m\u001b[0;34m.\u001b[0m\u001b[0mscatter\u001b[0m\u001b[0;34m(\u001b[0m\u001b[0marr\u001b[0m\u001b[0;34m[\u001b[0m\u001b[0;34m:\u001b[0m\u001b[0;34m,\u001b[0m\u001b[0;36m3\u001b[0m\u001b[0;34m]\u001b[0m\u001b[0;34m,\u001b[0m \u001b[0mcolor\u001b[0m\u001b[0;34m=\u001b[0m\u001b[0;34m\"b\"\u001b[0m\u001b[0;34m)\u001b[0m\u001b[0;34m\u001b[0m\u001b[0m\n",
      "\u001b[0;31mAttributeError\u001b[0m: module 'seaborn' has no attribute 'plt'"
     ]
    }
   ],
   "source": [
    "# First: plot the data and look\n",
    "\n",
    "sns.plt.scatter(arr[:,1], color=\"r\")\n",
    "sns.plt.scatter(arr[:,2], color=\"g\")\n",
    "sns.plt.scatter(arr[:,3], color=\"b\")\n",
    "plt.show()"
   ]
  },
  {
   "cell_type": "code",
   "execution_count": null,
   "metadata": {},
   "outputs": [],
   "source": [
    "# Sacamos los datos del participante nº 7 para los tests\n",
    "\n",
    "arr = np.delete(arr, 6,0)\n",
    "\n",
    "soleado = arr[:,1]\n",
    "nublado = arr[:,2]\n",
    "lluvioso = arr[:,3]\n",
    "\n",
    "sns.plt.scatter(arr[:,0], soleado, color=\"r\")\n",
    "sns.plt.scatter(arr[:,0], nublado, color=\"g\")\n",
    "sns.plt.scatter(arr[:,0], lluvioso, color=\"b\")\n",
    "\n",
    "sns.plt.savefig(\"graf\")"
   ]
  },
  {
   "cell_type": "code",
   "execution_count": null,
   "metadata": {
    "collapsed": true
   },
   "outputs": [],
   "source": [
    "# Me fijo si descarto que son normales con Shapiro\n",
    "\n",
    "print(\"Tests de normalidad\")\n",
    "\n",
    "_, norm_p1 = stats.shapiro(soleado)\n",
    "_, norm_p2 = stats.shapiro(nublado)\n",
    "_, norm_p3 = stats.shapiro(lluvioso)\n",
    "\n",
    "print(\"Shapiro test: {}, {}, {}\".format(norm_p1, norm_p2, norm_p3))\n",
    "\n",
    "# No se puede rechazar que no tengan distribucion normal\n",
    "\n",
    "print(\"Tests de misma varianza\")\n",
    "\n",
    "_, var_p = stats.levene(soleado, nublado, lluvioso)\n",
    "_, var_p1 = stats.levene(soleado, nublado)\n",
    "_, var_p2 = stats.levene(soleado, lluvioso)\n",
    "_, var_p3 = stats.levene(nublado, lluvioso)\n",
    "\n",
    "print(\"Levene test: {}\".format(var_p))\n",
    "print(\"Levene test 1v2: {}\".format(var_p1))\n",
    "print(\"Levene test 1v3: {}\".format(var_p2))\n",
    "print(\"Levene test 2v3: {}\".format(var_p3))\n",
    "\n",
    "# Tomando como 0.05 como alpha, se descarta la igualdad de la varianza entre los dias soleados y nublados contra los dias de lluvia.\n",
    "# Para comprar soleados y nublados se puede utilizar t-test apareado, si se compran los dias de lluvia Welch t-test. En todos los casos se pueden utilizar tests no paramétricos como shuffle."
   ]
  },
  {
   "cell_type": "code",
   "execution_count": null,
   "metadata": {
    "collapsed": true
   },
   "outputs": [],
   "source": [
    "# - ITEM 1 -\n",
    "print(\"Tests de misma media\")\n",
    "\n",
    "_, mean_p_1v2 = stats.ttest_ind(soleado, nublado, equal_var=False)\n",
    "_, mean_p_1v3 = stats.ttest_ind(soleado, lluvioso, equal_var=False)\n",
    "_, mean_p_2v3 = stats.ttest_ind(lluvioso, nublado, equal_var=False)\n",
    "\n",
    "print(\"Welch's test 1v2: {}\".format(mean_p_1v2))\n",
    "print(\"Welch's test 1v3: {}\".format(mean_p_1v3))\n",
    "print(\"Welch's test 2v3: {}\".format(mean_p_2v3))\n",
    "\n",
    "def calcular_delta(d,e):\n",
    "    mean_1_inicial = d[e == e[0]].mean()\n",
    "    mean_2_inicial = d[e != e[0]].mean()\n",
    "\n",
    "    delta = mean_2_inicial - mean_1_inicial\n",
    "\n",
    "    return delta\n",
    "\n",
    "\n",
    "def permutation_test(d,e, n=100000):\n",
    "    d0 = calcular_delta(d,e)\n",
    "    deltas = np.zeros(n)\n",
    "    aux_e = e.copy()\n",
    "\n",
    "    for i in range(n):\n",
    "        np.random.shuffle(aux_e)\n",
    "        deltas[i] = calcular_delta(d,aux_e)\n",
    "\n",
    "    return deltas, d0\n",
    "\n",
    "def foo(a, e_a, b, e_b):\n",
    "    e_1 = np.full(a.shape[0], e_a) \n",
    "    e_2 = np.full(b.shape[0], e_b)\n",
    "    e = np.concatenate((e_1,e_2)) \n",
    "    d = np.concatenate((a,b))\n",
    "    return d,e\n",
    "\n",
    "#Item 1 : \"Los atletas son más lentos en dı́as de lluvia que en dı́as soleados.\" \n",
    "#H0 : los atletas tienen mayor o igual velocidad en dias lluviosos que en dias soleados (negacion del enunciado)\n",
    "d,e = foo(soleado, 's', lluvioso, 'l')\n",
    "deltas, d0 = permutation_test(d,e)\n",
    "pvalue =  deltas[deltas >= d0].shape[0]/deltas.shape[0]\n",
    "print(d0,pvalue)\n",
    "\n",
    "delta_alpha = np.percentile(deltas, 95)\n",
    "\n",
    "sns.distplot(deltas, norm_hist=False, kde=False)\n",
    "sns.plt.axvline(x=d0, linewidth=1, color='red', linestyle=\"dotted\")\n",
    "sns.plt.axvline(x=delta_alpha, linewidth=1, color='g', linestyle=\"dotted\")\n",
    "sns.plt.show()\n",
    "\n",
    "#Hay evidencia suficiente para rechazar H0 => son mas lentos (rechazamos la negacion)"
   ]
  },
  {
   "cell_type": "code",
   "execution_count": null,
   "metadata": {
    "collapsed": true
   },
   "outputs": [],
   "source": [
    "# Item 2 : \"El cielo nublado no influye en los tiempos de los atletas.\"\n",
    "\n",
    "# Welsh :NO SABEMOS USAR UNA COLA\n",
    "_, mean_p_ge_1v3 = stats.ttest_ind(lluvioso, soleado,, equal_var=False)\n",
    "print(\"Welch's test 1v3: {}\".format(mean_p_ge_1v3))\n",
    "\n",
    "# H0 : La media de tiempos es igual tanto si esta nublado como soleado\n",
    "\n",
    "# Dado que no se puede rechazar que tengan distinta varianza (y que no presenten una distribucion normal) \n",
    "# Usamos el ttest apareado para intentar rechazar igual media \n",
    "_, pvalue = stats.ttest_rel(soleado, nublado)\n",
    "print(\"Paired test soleado y nublado a dos colas: {}\".format(pvalue))\n",
    "# No se puede rechazar la igualdad de medias, no se llega a ninguna conclusion "
   ]
  },
  {
   "cell_type": "code",
   "execution_count": null,
   "metadata": {
    "collapsed": true
   },
   "outputs": [],
   "source": [
    "# Item 3 : \"La velocidad en dı́as de lluvia es independiente del atleta.\"\n",
    "sns.plt.scatter(soleado,nublado)\n",
    "pearson, pvalue = stats.pearsonr(soleado,nublado)\n",
    "print(\"Coeficiente de pearson correlacion entre soleado y nublado: pearson: {}, pvalue: {}\".format(pearson,pvalue))\n",
    "sns.plt.show()\n",
    "\n",
    "sns.plt.scatter(soleado,lluvioso)\n",
    "pearson, pvalue = stats.pearsonr(soleado,lluvioso)\n",
    "print(\"Coeficiente de pearson correlacion entre soleado y lluvioso: pearson: {}, pvalue: {}\".format(pearson,pvalue))\n",
    "sns.plt.show()"
   ]
  },
  {
   "cell_type": "code",
   "execution_count": null,
   "metadata": {
    "collapsed": true
   },
   "outputs": [],
   "source": [
    "# Item 4: just talk about previous results"
   ]
  },
  {
   "cell_type": "code",
   "execution_count": null,
   "metadata": {
    "collapsed": true
   },
   "outputs": [],
   "source": [
    "# Conclusions"
   ]
  }
 ],
 "metadata": {
  "kernelspec": {
   "display_name": "Python 3",
   "language": "python",
   "name": "python3"
  },
  "language_info": {
   "codemirror_mode": {
    "name": "ipython",
    "version": 3
   },
   "file_extension": ".py",
   "mimetype": "text/x-python",
   "name": "python",
   "nbconvert_exporter": "python",
   "pygments_lexer": "ipython3",
   "version": "3.6.1"
  }
 },
 "nbformat": 4,
 "nbformat_minor": 2
}
