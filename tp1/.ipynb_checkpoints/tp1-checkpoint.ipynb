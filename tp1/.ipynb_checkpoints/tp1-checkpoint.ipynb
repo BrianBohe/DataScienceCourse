{
 "cells": [
  {
   "cell_type": "code",
   "execution_count": null,
   "metadata": {
    "collapsed": true
   },
   "outputs": [],
   "source": [
    "# Imports necesarios\n",
    "import seaborn as sns\n",
    "import numpy as np\n",
    "import matplotlib.pyplot as plt\n",
    "from scipy import stats"
   ]
  },
  {
   "cell_type": "code",
   "execution_count": null,
   "metadata": {
    "collapsed": true
   },
   "outputs": [],
   "source": [
    "# La fila 1 contiene el header\n",
    "arr = np.loadtxt(\"tiempos.txt\", skiprows=1)\n",
    "\n",
    "soleado = arr[:,1]\n",
    "nublado = arr[:,2]\n",
    "lluvioso = arr[:,3]\n",
    "my_labels = ['Soleado', 'Nublado', 'Lluvioso']"
   ]
  },
  {
   "cell_type": "markdown",
   "metadata": {},
   "source": [
    "\n",
    "<hr>\n",
    "\n",
    "# 1º - Plotear el dataset completo\n"
   ]
  },
  {
   "cell_type": "code",
   "execution_count": null,
   "metadata": {},
   "outputs": [],
   "source": [
    "# PLOT SCATTER DE LOS DATOS\n",
    "fig = plt.figure(dpi=100)\n",
    "scat_soleado = plt.scatter(arr[:,0], soleado, color=\"r\")\n",
    "scat_nublado = plt.scatter(arr[:,0], nublado, color=\"g\")\n",
    "scat_lluvioso = plt.scatter(arr[:,0], lluvioso, color=\"b\")\n",
    "\n",
    "plt.axes().set_title('Tiempos de los corredores', fontsize=20)\n",
    "plt.xlabel('i-ésimo corredor', fontsize=18)\n",
    "plt.ylabel('Tiempo', fontsize=18)\n",
    "\n",
    "# Cuadro de Leyendas\n",
    "fig.legend((scat_soleado,scat_nublado,scat_lluvioso), my_labels, 'center right', bbox_to_anchor=(1.25, 0.5))\n",
    "\n",
    "plt.show()"
   ]
  },
  {
   "cell_type": "markdown",
   "metadata": {},
   "source": [
    "<blockquote>\n",
    "    <h2>¿Con qué nos encontramos?</h2>\n",
    "    <p>\n",
    "        Todo parece indicar que el tiempo del 7mo corredor en clima Lluvioso es un <b>dato atípico</b>.\n",
    "    </p>\n",
    "</blockquote>"
   ]
  },
  {
   "cell_type": "code",
   "execution_count": null,
   "metadata": {},
   "outputs": [],
   "source": [
    "# BOXPLOT DE LOS DATOS POR CLIMA\n",
    "data = [soleado, nublado, lluvioso]\n",
    "\n",
    "fig = plt.figure(dpi=100)\n",
    "ax1 = plt.axes()\n",
    "fig.canvas.set_window_title('Boxplot tiempos agrupados por clima')\n",
    "ax1.set_title('Boxplot tiempos agrupados por Clima', fontsize=20)\n",
    "plt.subplots_adjust(left=0.075, right=0.95, top=0.9, bottom=0.25)\n",
    "\n",
    "# Estilo del box\n",
    "bp = plt.boxplot(data, vert=False, whis=1.5, labels=my_labels, widths=0.5)\n",
    "plt.setp(bp['boxes'], color='black')\n",
    "plt.setp(bp['whiskers'], color='blue')\n",
    "plt.setp(bp['fliers'], markersize=3, markerfacecolor='black',markeredgecolor='black', marker='*')\n",
    "\n",
    "# Estilo de los ejes\n",
    "ax1.xaxis.grid(True, linestyle=':', which='major', color='lightgrey', alpha=0.5)\n",
    "ax1.set_axisbelow(True)\n",
    "ax1.set_ylabel('Clima', fontsize=18)\n",
    "ax1.set_xlabel('Tiempo', fontsize=18)\n",
    "ax1.set_xlim(5, 200)\n",
    "\n",
    "#Cuadro para señalizar los outliers\n",
    "textstr = '$\\star$ Outlier'\n",
    "props = dict(boxstyle='round', facecolor='lightgrey', alpha=0.5)\n",
    "ax1.text(1.05, 0.5, textstr, transform=ax1.transAxes, fontsize=14,verticalalignment='center', bbox=props)\n",
    "\n",
    "plt.show()"
   ]
  },
  {
   "cell_type": "markdown",
   "metadata": {},
   "source": [
    "<blockquote>\n",
    "    <h2>Descartamos al 7mo corredor</h2>\n",
    "    <p>\n",
    "        Dado que los datos son apareados, se decide por <i>descartar</i> al 7mo corredor.\n",
    "    </p>\n",
    "    <p>\n",
    "        El set de datos sin este corredor queda de la siguiente forma.\n",
    "    </p>\n",
    "\n",
    "</blockquote>"
   ]
  },
  {
   "cell_type": "code",
   "execution_count": null,
   "metadata": {},
   "outputs": [],
   "source": [
    "# Se descarta la información del 7mo corredor\n",
    "arr = np.delete(arr, 6,0)\n",
    "soleado = arr[:,1]\n",
    "nublado = arr[:,2]\n",
    "lluvioso = arr[:,3]\n",
    "data = [soleado, nublado, lluvioso]\n",
    "\n",
    "#Ploteamos de nuevo\n",
    "fig = plt.figure(dpi=100)\n",
    "scat_soleado = plt.scatter(arr[:,0], soleado, color=\"r\")\n",
    "scat_nublado = plt.scatter(arr[:,0], nublado, color=\"g\")\n",
    "scat_lluvioso = plt.scatter(arr[:,0], lluvioso, color=\"b\")\n",
    "\n",
    "plt.axes().set_title('Tiempos de los corredores (filtrados)', fontsize=20)\n",
    "plt.xlabel('i-ésimo corredor', fontsize=18)\n",
    "plt.ylabel('Tiempo', fontsize=18)\n",
    "\n",
    "fig.legend((scat_soleado,scat_nublado,scat_lluvioso), my_labels, 'center right', bbox_to_anchor=(1.25, 0.5))\n",
    "\n",
    "plt.show()"
   ]
  },
  {
   "cell_type": "markdown",
   "metadata": {
    "collapsed": true
   },
   "source": [
    "<hr>\n",
    "# 2º Antes de aplicar test sobre nuestros datos"
   ]
  },
  {
   "cell_type": "markdown",
   "metadata": {},
   "source": [
    "<blockquote>\n",
    "    <h2>Test de Normalidad (Shapiro - Wil)</h2>\n",
    "    <p>\n",
    "        Considerando los tiempos de cada clima como una variable aleatoria, quisieramos saber si pueden provenir de una distribución Normal.\n",
    "    </p>\n",
    "    <p>\n",
    "        <b>Hipótesis Nula:</b> Los datos provienen de una distribución Normal.\n",
    "        <br> <b>&alpha;-level:</b> 0.05\n",
    "    </p>\n",
    "</blockquote>"
   ]
  },
  {
   "cell_type": "code",
   "execution_count": null,
   "metadata": {},
   "outputs": [],
   "source": [
    "# Usamos stats\n",
    "_, norm_p1 = stats.shapiro(soleado)\n",
    "_, norm_p2 = stats.shapiro(nublado)\n",
    "_, norm_p3 = stats.shapiro(lluvioso)\n",
    "\n",
    "for i in range(0,3):\n",
    "    _, test_p_value = stats.shapiro(data[i])\n",
    "    print (\"Shapiro test de la V.A. '{}' p-value: {},\".format(my_labels[i],test_p_value))\n",
    "    \n",
    "#print(\"Shapiro test value: {}, {}, {}\".format(norm_p1, norm_p2, norm_p3))\n",
    "\n",
    "# No se puede rechazar que no tengan distribucion normal"
   ]
  },
  {
   "cell_type": "markdown",
   "metadata": {},
   "source": [
    "<blockquote>\n",
    "    <h2>Resultados</h2>\n",
    "    <p>\n",
    "        No se rechaza la <b>Hipótesis Nula</b> sobre ninguna variable aleatoria, asumiremos que provienen de una Normal.\n",
    "    </p>\n",
    "</blockquote>"
   ]
  },
  {
   "cell_type": "markdown",
   "metadata": {},
   "source": [
    "<blockquote>\n",
    "    <h2>Test de misma Varianza (Levene)</h2>\n",
    "    <p>\n",
    "        Queremos ver si nuestras VAs presentan misma varianza, agrupando las 3 y agrupando de a 2.\n",
    "    </p>\n",
    "    <p>\n",
    "        <b>Hipótesis Nula:</b> Las VAs en cuestión presentan misma varianza\n",
    "        <br> <b>&alpha;-level:</b> 0.05\n",
    "    </p>\n",
    "</blockquote>"
   ]
  },
  {
   "cell_type": "code",
   "execution_count": null,
   "metadata": {
    "scrolled": false
   },
   "outputs": [],
   "source": [
    "# Usamos el método levene de stats\n",
    "\n",
    "_, p_value_all = stats.levene(soleado, nublado, lluvioso)\n",
    "print(\"Levene test p-value de las tres: {}\".format(p_value_all))\n",
    "\n",
    "# Comparación tomando de a 2\n",
    "\n",
    "for i in range(0,len(data)):\n",
    "    for j in range(i+1,len(data)):\n",
    "        _, p_value = stats.levene(data[i], data[j])\n",
    "        print(\"Levene test p-value para VAs '{}' y '{}': {}\".format(my_labels[i],my_labels[j],p_value))\n",
    "\n",
    "# se descarta la igualdad de la varianza entre los dias soleados y nublados contra los dias de lluvia.\n",
    "# Para comprar soleados y nublados se puede utilizar t-test apareado, si se compran los dias de lluvia Welch t-test. En todos los casos se pueden utilizar tests no paramétricos como shuffle."
   ]
  },
  {
   "cell_type": "markdown",
   "metadata": {},
   "source": [
    "<blockquote>\n",
    "    <h2>Resultados</h2>\n",
    "    <p>\n",
    "        Se rechaza la <b>Hipótesis Nula</b> entre la VA 'Lluvioso' y cualquier otra, así como las tres juntas. \n",
    "        Para los demás casos no se rechaza.\n",
    "    </p>\n",
    "    <p>\n",
    "        Esto nos permite:\n",
    "        <ul>\n",
    "          <li>Utilizar t-test para comparaciones sobre las VAs 'Soleado' y 'Nublado'.</li>\n",
    "          <li>Utilizar Welch t-test para comparaciones de alguna VA con 'Lluvioso'.</li>\n",
    "          <li>Para todos los casos se puede utilizar test no-paramétricos.</li>\n",
    "          <li>Dejar de deber 20 finales.</li>\n",
    "        </ul>\n",
    "    </p>\n",
    "</blockquote>"
   ]
  },
  {
   "cell_type": "markdown",
   "metadata": {},
   "source": [
    "<hr>\n",
    "# Respuestas a los items propuestos"
   ]
  },
  {
   "cell_type": "markdown",
   "metadata": {},
   "source": [
    "<blockquote>\n",
    "    <h2>Item 1 - \"Los atletas son más lentos en dı́as de lluvia que en dı́as soleados.\"</h2>\n",
    "    <p>\n",
    "        Trataremos de negar lo opuesto. Aunque hay información suficiente para rechazar que ambas VA tengan misma varianza, no podemos negar que ambas variables provengan de una distribución Normal, por lo que utilizaremos un Welch t-test.\n",
    "    </p>\n",
    "    <p>\n",
    "        <b>Hipótesis Nula:</b> los atletas tienen igual velocidad en los dias lluviosos que en dias soleados\n",
    "        <br> <b>&alpha;-level:</b> 0.05\n",
    "    </p>\n",
    "</blockquote>"
   ]
  },
  {
   "cell_type": "code",
   "execution_count": null,
   "metadata": {},
   "outputs": [],
   "source": [
    "# Usamos Welch t-test de stats\n",
    "\n",
    "for i in range(0,len(data)):\n",
    "    for j in range(i+1,len(data)):\n",
    "        _, p_value = stats.ttest_ind(data[i], data[j], equal_var=False)\n",
    "        print(\"Welch's test p-value para VAs '{}' y '{}': {}\".format(my_labels[i],my_labels[j],p_value))"
   ]
  },
  {
   "cell_type": "markdown",
   "metadata": {},
   "source": [
    "<blockquote>\n",
    "    <h2>Item 1 - Resultados</h2>\n",
    "    <p>\n",
    "        Hay información suficiente para rechazar la <b>Hipótesis Nula</b> entre la VA 'Lluvioso' y cualquier otra.\n",
    "        <br> Se concluye que las medias son diferentes. Se puede ver en los plots iniciales la VA 'Lluvioso' presenta valores mayores en promedio.\n",
    "    </p>\n",
    "</blockquote>"
   ]
  },
  {
   "cell_type": "markdown",
   "metadata": {},
   "source": [
    "<blockquote>\n",
    "    <h3>Item 1 (bis) - Probando con un test no-parámetrico</h3>\n",
    "    <p>\n",
    "        Trataremos nuevamente negar lo opuesto pero esta vez utilizando un test de permutación.\n",
    "    </p>\n",
    "    <p>\n",
    "        <b>Hipótesis Nula:</b> los atletas tienen igual velocidad en los dias lluviosos que en dias soleados\n",
    "        <br> <b>&alpha;-level:</b> 0.05\n",
    "    </p>\n",
    "</blockquote>"
   ]
  },
  {
   "cell_type": "code",
   "execution_count": null,
   "metadata": {},
   "outputs": [],
   "source": [
    "def calcular_delta(d,e):\n",
    "    mean_1_inicial = d[e == e[0]].mean()\n",
    "    mean_2_inicial = d[e != e[0]].mean()\n",
    "    return mean_2_inicial - mean_1_inicial\n",
    "\n",
    "\n",
    "def permutation_test(d,e, n=100000):\n",
    "    d0 = calcular_delta(d, e)\n",
    "    deltas = np.zeros(n)\n",
    "    aux_e = e.copy()\n",
    "\n",
    "    for i in range(n):\n",
    "        np.random.shuffle(aux_e)\n",
    "        deltas[i] = calcular_delta(d,aux_e)\n",
    "\n",
    "    return deltas, d0\n",
    "\n",
    "def foo(a, e_a, b, e_b):\n",
    "    e_1 = np.full(a.shape[0], e_a) \n",
    "    e_2 = np.full(b.shape[0], e_b)\n",
    "    e = np.concatenate((e_1, e_2)) \n",
    "    d = np.concatenate((a,b))\n",
    "    return d,e\n",
    "\n",
    "d, e = foo(soleado, 's', lluvioso, 'l')\n",
    "\n",
    "# delta-value : la diferencia entre las medias que presenta nuestra información \n",
    "# p-value es la probabilidad de haber obtenido este delta o mayor\n",
    "\n",
    "deltas, delta_value = permutation_test(d,e)\n",
    "p_value =  deltas[deltas >= delta_value].shape[0]/deltas.shape[0]\n",
    "\n",
    "#print(\"Delta-value = {} | p-value = {}\".format(delta_value, p_value))\n",
    "\n",
    "# Delta-level : el delta que atrapa el percentil 1-'alpha-level' de la distribución\n",
    "# Nuestro Delta-value debería caer antes de a esto para no rechazar H0\n",
    "delta_level = np.percentile(deltas, 95)\n",
    "\n",
    "fig = plt.figure(dpi=100)\n",
    "plt.axes().set_title('Test de Permutaciones', fontsize=20)\n",
    "plt.axes().set_xlabel('Delta', fontsize=14) \n",
    "plt.axes().set_ylabel('# Repeticiones', fontsize=14) \n",
    "\n",
    "sns.distplot(deltas, norm_hist=False, kde=False)\n",
    "plt.axvline(x=delta_value, linewidth=1, color='red', linestyle=\"dotted\", label=\"d-value\")\n",
    "plt.axvline(x=delta_level, linewidth=1, color='g', linestyle=\"dotted\", label=\"d-level\")\n",
    "\n",
    "plt.legend()\n",
    "\n",
    "#Cuadro para printear valores\n",
    "textstr = \"d-value : {} \\n p-value : {} \\n d-level : {}\".format(round(delta_value,3),round(p_value,3),round(delta_level,3))\n",
    "props = dict(boxstyle='round', facecolor='lightgrey', alpha=0.5)\n",
    "plt.axes().text(1.05, 0.5, textstr, transform=ax1.transAxes, fontsize=10,verticalalignment='center', bbox=props)\n",
    "\n",
    "plt.show()"
   ]
  },
  {
   "cell_type": "markdown",
   "metadata": {},
   "source": [
    "<blockquote>\n",
    "    <h3>Item 1 (bis) - Resultados</h3>\n",
    "    <p>\n",
    "        Hay información suficiente para rechazar la <b>Hipótesis Nula</b> entre la VA 'Lluvioso' y cualquier otra.\n",
    "        <br> Se concluye que las medias son diferentes. Se puede ver en los plots iniciales la VA 'Lluvioso' presenta valores mayores en promedio.\n",
    "    </p>\n",
    "</blockquote>"
   ]
  },
  {
   "cell_type": "markdown",
   "metadata": {},
   "source": [
    "<blockquote>\n",
    "    <h2>Item 2 - \"El cielo nublado no influye en los tiempos de los atletas.\"</h2>\n",
    "    <p>\n",
    "        No hay información suficiente para rechazar que tengan misma varianza o que los datos provengan de una distribución Normal. Asumiremos que esto vale y utilizaremos un t-test para tratar de rechazar que sus medias sean iguales, es decir, rechazar que no influye. En este caso aprovechando la forma de los datos, utilizamos un <b>t-test apareado</b>.\n",
    "    </p>\n",
    "    <p>\n",
    "        <b>Hipótesis Nula:</b> La media de tiempos es igual tanto si esta nublado como soleado\n",
    "        <br> <b>&alpha;-level:</b> 0.05\n",
    "    </p>\n",
    "</blockquote>"
   ]
  },
  {
   "cell_type": "code",
   "execution_count": null,
   "metadata": {},
   "outputs": [],
   "source": [
    "# t-test apareado\n",
    "_, pvalue = stats.ttest_rel(soleado, nublado)\n",
    "print(\"t-test apareado entre las VAs'soleado' y 'nublado' a dos colas: {}\".format(pvalue))\n",
    "# No se puede rechazar la igualdad de medias, no se llega a ninguna conclusion "
   ]
  },
  {
   "cell_type": "code",
   "execution_count": null,
   "metadata": {
    "collapsed": true
   },
   "outputs": [],
   "source": [
    "# Otra alternativa es usar Welsh, pero NO SABEMOS COMO USAR A UNA COLA (tenemos que preguntar)\n",
    "# _, mean_p_ge_1v3 = stats.ttest_ind(lluvioso, soleado,, equal_var=False)\n",
    "# print(\"Welch's test 1v3: {}\".format(mean_p_ge_1v3))"
   ]
  },
  {
   "cell_type": "markdown",
   "metadata": {},
   "source": [
    "<blockquote>\n",
    "    <h2>Item 2 - Resultados</h2>\n",
    "    <p>\n",
    "        No hay información suficiente para rechazar la <b>Hipótesis Nula</b>.\n",
    "        <br> Por lo que no se puede rechazar que \"el cielo nublado no influye\".\n",
    "    </p>\n",
    "</blockquote>"
   ]
  },
  {
   "cell_type": "markdown",
   "metadata": {},
   "source": [
    "<blockquote>\n",
    "    <h2>Item 3 - \"La velocidad en dı́as de lluvia es independiente del atleta.\"</h2>\n",
    "    <p>\n",
    "        Analizaremos las tres VAs para encontrar correlaciones. Luego concluiremos en una respuesta.\n",
    "    </p>\n",
    "</blockquote>"
   ]
  },
  {
   "cell_type": "markdown",
   "metadata": {},
   "source": [
    "<blockquote>\n",
    "    <h4>¿Hay correlación entre los días soleados y nublados?</h4>\n",
    "</blockquote>"
   ]
  },
  {
   "cell_type": "code",
   "execution_count": null,
   "metadata": {},
   "outputs": [],
   "source": [
    "fig = plt.figure(dpi=100)\n",
    "plt.axes().set_title('Soleado vs Nublado', fontsize=20)\n",
    "plt.axes().set_xlabel('Soleado', fontsize=14) \n",
    "plt.axes().set_ylabel('Nublado', fontsize=14) \n",
    "plt.scatter(soleado,nublado)\n",
    "\n",
    "pearson, p_value = stats.pearsonr(soleado,nublado)\n",
    "\n",
    "#Cuadro para printear valores\n",
    "textstr = \"pearson : {} \\np-value : {} \".format(round(pearson,5),round(p_value,5))\n",
    "props = dict(boxstyle='round', facecolor='lightgrey', alpha=0.5)\n",
    "plt.axes().text(1.05, 0.5, textstr, transform=ax1.transAxes, fontsize=8,verticalalignment='center', bbox=props)\n",
    "\n",
    "plt.show()"
   ]
  },
  {
   "cell_type": "markdown",
   "metadata": {},
   "source": [
    "<blockquote>\n",
    "    <h4>Los resultados sugieren una correlación en la velocidad de los atletas entre los días soleados y nublados.</h4>\n",
    "</blockquote>"
   ]
  },
  {
   "cell_type": "markdown",
   "metadata": {},
   "source": [
    "<blockquote>\n",
    "    <h4>¿Hay correlación entre los días soleados y lluviosos?</h4>\n",
    "</blockquote>"
   ]
  },
  {
   "cell_type": "code",
   "execution_count": null,
   "metadata": {},
   "outputs": [],
   "source": [
    "fig = plt.figure(dpi=100)\n",
    "plt.axes().set_title('Soleado vs Lluvioso', fontsize=20)\n",
    "plt.axes().set_xlabel('Soleado', fontsize=14) \n",
    "plt.axes().set_ylabel('Lluvioso', fontsize=14) \n",
    "plt.scatter(soleado,lluvioso)\n",
    "\n",
    "pearson, p_value = stats.pearsonr(soleado,lluvioso)\n",
    "\n",
    "#Cuadro para printear valores\n",
    "textstr = \"pearson : {} \\np-value : {}\".format(round(pearson,5),round(p_value,5))\n",
    "props = dict(boxstyle='round', facecolor='lightgrey', alpha=0.5)\n",
    "plt.axes().text(1.05, 0.5, textstr, transform=ax1.transAxes, fontsize=8,verticalalignment='center', bbox=props)\n",
    "\n",
    "\n",
    "plt.show()"
   ]
  },
  {
   "cell_type": "markdown",
   "metadata": {},
   "source": [
    "<blockquote>\n",
    "    <h4>Los datos sugieren que no hay correlación entre los tiempos obtenidos un día de lluvia y un día soleado.</h4>\n",
    "</blockquote>"
   ]
  },
  {
   "cell_type": "markdown",
   "metadata": {},
   "source": [
    "<blockquote>\n",
    "    <h2>Item 4 - \"El clima influye en la velocidad de los atletas.\" </h2>\n",
    "    <p>\n",
    "        Se puede ver de los experimentos previos, que aunque no se pueda rechazar que sus datos provengan de distribuciones Normales, las medias de tiempos entre los días de Lluvia y los demás son diferentes. Lo que nos dá la pauta que el tiempo si influye, o al menos la Lluvia lo hace. Empeorando sus tiempos.\n",
    "    </p>\n",
    "</blockquote>"
   ]
  },
  {
   "cell_type": "markdown",
   "metadata": {},
   "source": [
    "<blockquote>\n",
    "    <h2>Item 5 - \"Consejo al entrenador\" </h2>\n",
    "    <p>\n",
    "        La correlación entre los tiempos de los días nublados y soleados nos permite inferir que mejorar en uno de los días nos permite mejorar en el otro.\n",
    "        <br> Dado que no hay correlación entre estos y los días de lluvia, no podemos implicar que mejorar los tiempos un día de lluvia, mejorará los tiempos en otros climas.\n",
    "    </p>\n",
    "</blockquote>"
   ]
  },
  {
   "cell_type": "markdown",
   "metadata": {
    "collapsed": true
   },
   "source": [
    "<hr>\n",
    "# Conclusiones"
   ]
  },
  {
   "cell_type": "markdown",
   "metadata": {},
   "source": [
    "<blockquote>\n",
    "    <ul>\n",
    "        <li>Un interrogante puede no ser muy manipulable para probar su falsedad o verdad.</li>\n",
    "        <li>Hay hipótesis que no podremos rechazar y nos obligará a utilizar diferentes test o dar saltos de fé.</li>\n",
    "        <li>Aprobé probabilidad de milagro.</li>\n",
    "    </ul>\n",
    "</blockquote>"
   ]
  }
 ],
 "metadata": {
  "kernelspec": {
   "display_name": "Python 3",
   "language": "python",
   "name": "python3"
  },
  "language_info": {
   "codemirror_mode": {
    "name": "ipython",
    "version": 3
   },
   "file_extension": ".py",
   "mimetype": "text/x-python",
   "name": "python",
   "nbconvert_exporter": "python",
   "pygments_lexer": "ipython3",
   "version": "3.6.1"
  }
 },
 "nbformat": 4,
 "nbformat_minor": 2
}
