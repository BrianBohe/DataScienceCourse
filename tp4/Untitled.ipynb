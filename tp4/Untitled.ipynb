{
 "cells": [
  {
   "cell_type": "markdown",
   "metadata": {},
   "source": [
    "<blockquote>Lo primero que hacemos es levantar el archivo data.csv para identificar los nombres del autor y coautur/es.</blockquote>"
   ]
  },
  {
   "cell_type": "code",
   "execution_count": 1,
   "metadata": {
    "collapsed": true
   },
   "outputs": [],
   "source": [
    "path_to_data = \"data.csv\"\n",
    "data = open(path_to_data,'r')\n",
    "all_lines = data.readlines()\n",
    "data.close()"
   ]
  },
  {
   "cell_type": "code",
   "execution_count": 2,
   "metadata": {},
   "outputs": [
    {
     "data": {
      "text/plain": [
       "'1992, B368,  Nucl.Phys., Horne & Horowitz,  Exact Black String Solutions in Three Dimensions\\n'"
      ]
     },
     "execution_count": 2,
     "metadata": {},
     "output_type": "execute_result"
    }
   ],
   "source": [
    "all_lines[0]"
   ]
  },
  {
   "cell_type": "markdown",
   "metadata": {},
   "source": [
    "<blockquote>El formato parace ser: Fecha + Codigo + lugar + autores/coautores + nombre de la publicacion.\n",
    "Sólo nos interesan los autores/coautores.</blockquote>"
   ]
  },
  {
   "cell_type": "code",
   "execution_count": 3,
   "metadata": {},
   "outputs": [],
   "source": [
    "def strip_withou_space(aString):\n",
    "    return str.strip(aString).replace(\" \", \"\")\n",
    "\n",
    "## Every authour/coauthor is a node.\n",
    "##This is a way to map from names to numbers that represent the index of the node in our graph.\n",
    "name_to_node_index = {}\n",
    "\n",
    "## Every co-authorship is an edges of our graph.\n",
    "edges = set()\n",
    "\n",
    "for a_pub_info in all_lines:    \n",
    "    pub_split = a_pub_info.split(\",\")[3]\n",
    "    list_of_authors = pub_split.split(\"&\")\n",
    "    names_in_this_pub = list( map(strip_withou_space, list_of_authors) )\n",
    "    \n",
    "    for name in names_in_this_pub:\n",
    "        if name not in name_to_node_index:\n",
    "            name_to_node_index[name] = len(name_to_node_index)+1\n",
    "    \n",
    "    nodes_to_connect = [name_to_node_index[name] for name in names_in_this_pub]\n",
    "    \n",
    "    for i, node in enumerate(nodes_to_connect):\n",
    "        for neighbour in nodes_to_connect[i+1:]:\n",
    "            if edges.isdisjoint({ (node,neighbour), (neighbour,node) }):\n",
    "                edges.add( (node,neighbour) )"
   ]
  },
  {
   "cell_type": "code",
   "execution_count": 4,
   "metadata": {},
   "outputs": [
    {
     "name": "stdout",
     "output_type": "stream",
     "text": [
      "Cantidad de nodos en el grafo: 4027\n",
      "Cantidad de ejes en el grafo: 7977\n"
     ]
    }
   ],
   "source": [
    "print ( \"Cantidad de nodos en el grafo: {}\".format(len(name_to_node_index)) )\n",
    "print ( \"Cantidad de ejes en el grafo: {}\".format(len(edges)) )"
   ]
  },
  {
   "cell_type": "code",
   "execution_count": null,
   "metadata": {
    "collapsed": true
   },
   "outputs": [],
   "source": []
  }
 ],
 "metadata": {
  "kernelspec": {
   "display_name": "Python 3",
   "language": "python",
   "name": "python3"
  },
  "language_info": {
   "codemirror_mode": {
    "name": "ipython",
    "version": 3
   },
   "file_extension": ".py",
   "mimetype": "text/x-python",
   "name": "python",
   "nbconvert_exporter": "python",
   "pygments_lexer": "ipython3",
   "version": "3.6.2"
  }
 },
 "nbformat": 4,
 "nbformat_minor": 2
}
