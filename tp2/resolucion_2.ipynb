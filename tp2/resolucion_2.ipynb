{
 "cells": [
  {
   "cell_type": "code",
   "execution_count": 2,
   "metadata": {},
   "outputs": [],
   "source": [
    "import pandas as pd\n",
    "import numpy as np\n",
    "import scipy.signal\n",
    "import seaborn as sns\n",
    "import matplotlib.ticker as ticker\n",
    "import itertools\n",
    "import math"
   ]
  },
  {
   "cell_type": "code",
   "execution_count": null,
   "metadata": {
    "collapsed": true,
    "scrolled": true
   },
   "outputs": [],
   "source": [
    "path = \"/home/francisco/tps/datos/tp2/\"\n",
    "load_path = path + \"{}.hdf\"\n",
    "\n",
    "electrodos = [8, 44, 80, 131, 185]\n",
    "\n",
    "N_P = 10\n",
    "N_S = 10\n",
    "pacientes_P = []\n",
    "pacientes_S = []\n",
    "for load_name, N, dest, offset in [(\"P\", N_P, pacientes_P, 0), (\"S\", N_S, pacientes_S, 10)]:\n",
    "    for i in range(1, 1 + N):\n",
    "        paciente = load_name + \"{:02d}\".format(i)\n",
    "        df_ = pd.read_hdf(load_path.format(paciente))\n",
    "        df_ = df_.loc[offset + i-1,:,electrodos,:]\n",
    "        dest.append(df_)\n"
   ]
  },
  {
   "cell_type": "code",
   "execution_count": null,
   "metadata": {
    "scrolled": false
   },
   "outputs": [],
   "source": [
    "# Calcular N para hacer la transformación simbólica\n",
    "min_value = 2**32\n",
    "max_value = -2**32\n",
    "max_n_sigma = (-1, None)\n",
    "\n",
    "for pacientes in [pacientes_P, pacientes_S]:\n",
    "    for df_paciente in pacientes:\n",
    "        for idx, df_ in df_paciente.groupby([\"paciente\", \"epoch\", \"sensor\"]):\n",
    "            s = df_[\"valores\"]\n",
    "            min_value = min(s.min(), min_value)\n",
    "            max_value = max(s.max(), max_value)\n",
    "            max_n_sigma = max((len(s), s.std()), max_n_sigma)\n",
    "            \n",
    "print(min_value, max_value, max_n_sigma)\n"
   ]
  },
  {
   "cell_type": "code",
   "execution_count": null,
   "metadata": {},
   "outputs": [],
   "source": [
    "N = 100 * math.ceil((max_value - min_value) / (max_n_sigma[1] * max_n_sigma[0] ** (-1/3)))\n",
    "print(N)\n",
    "step = (max_value - min_value) / (N-1)\n",
    "print(step)"
   ]
  },
  {
   "cell_type": "code",
   "execution_count": null,
   "metadata": {},
   "outputs": [],
   "source": [
    "def transformacion_simbolica(v):\n",
    "    simbolos = (v - min_value) // step\n",
    "    simbolos[simbolos == N] = N - 1\n",
    "    return simbolos\n",
    "    \n",
    "for pacientes in [pacientes_P, pacientes_S]:\n",
    "    for i, df_p in enumerate(pacientes):\n",
    "        print(\"Paciente\", i, end=\"\\r\")\n",
    "        df_p[\"simbolo\"] = df_p.groupby([\"paciente\", \"epoch\", \"sensor\"]).apply(transformacion_simbolica)"
   ]
  },
  {
   "cell_type": "code",
   "execution_count": null,
   "metadata": {
    "collapsed": true
   },
   "outputs": [],
   "source": [
    "pacientes_P[0].head()"
   ]
  },
  {
   "cell_type": "code",
   "execution_count": null,
   "metadata": {},
   "outputs": [],
   "source": [
    "def calcular_informacion(df_):\n",
    "    s = df_[\"simbolo\"]\n",
    "    p_simbolos = [s[s == simb].count() / len(s) for simb in range(N)]\n",
    "    return -sum([p * np.log(p) if p != 0 else 0 for p in p_simbolos])\n",
    "\n",
    "entropias_P = []\n",
    "entropias_S = []\n",
    "for pacientes, entropias in [(pacientes_P, entropias_P), (pacientes_S, entropias_S)]:\n",
    "    for i, df_p in enumerate(pacientes):\n",
    "        print(i)\n",
    "        s_e = df_p.groupby([\"paciente\", \"epoch\", \"sensor\"]).apply(calcular_informacion)\n",
    "        entropias.append(s_e)\n"
   ]
  },
  {
   "cell_type": "code",
   "execution_count": null,
   "metadata": {},
   "outputs": [],
   "source": [
    "prom_entropias_P = []\n",
    "prom_entropias_S = []\n",
    "for entropias, prom_entropias in [(entropias_P, prom_entropias_P), (entropias_S, prom_entropias_S)]:\n",
    "    for s in entropias:\n",
    "        prom_entropias.append(s.groupby([\"sensor\"]).mean())"
   ]
  },
  {
   "cell_type": "code",
   "execution_count": null,
   "metadata": {},
   "outputs": [],
   "source": [
    "\n",
    "df_punto_a = pd.DataFrame({\n",
    "    \"Entropias\": [x for s in (prom_entropias_P + prom_entropias_S) for x in s.values],\n",
    "    \"Capacidad cognitiva\": [\"Reducida\" for s in prom_entropias_P for x in s.values] + [\"Normal\" for s in prom_entropias_P for x in s.values],\n",
    "    \"Sensor\": [x for s in (prom_entropias_P + prom_entropias_S) for x in s.index]\n",
    "})\n",
    "\n",
    "sns.violinplot(x=\"Sensor\", y=\"Entropias\", hue=\"Capacidad cognitiva\", data=df_punto_a, \n",
    "               split=True, palette=\"Set2\", inner=\"stick\", cut=0)\n",
    "sns.plt.show()"
   ]
  },
  {
   "cell_type": "code",
   "execution_count": null,
   "metadata": {},
   "outputs": [],
   "source": [
    "pacientes_P[0].describe()"
   ]
  },
  {
   "cell_type": "code",
   "execution_count": null,
   "metadata": {
    "collapsed": true
   },
   "outputs": [],
   "source": [
    "tiempos_promedios_P = []\n",
    "tiempos_promedios_S = []\n",
    "\n",
    "for tiempos, pacientes in [(tiempos_promedios_P, pacientes_P), (tiempos_promedios_S, pacientes_S)]:\n",
    "    for df_p in pacientes:\n",
    "        s = df_p[\"valores\"].groupby([\"tiempo\"]).mean()\n",
    "        s = transformacion_simbolica(s)\n",
    "        print(s.describe())\n",
    "\n",
    "# Esto no sirve porque queda todo con el mismo símbolo"
   ]
  },
  {
   "cell_type": "code",
   "execution_count": null,
   "metadata": {
    "scrolled": false
   },
   "outputs": [],
   "source": [
    "l1 = pacientes_P[:1]\n",
    "l2 = pacientes_S[:1]\n",
    "\n",
    "sns.plt.show()\n",
    "a, b = [], []\n",
    "for k, e in enumerate(electrodos):\n",
    "    print(\"Electrodo\", k + 1, \"de\", len(electrodos))\n",
    "    for df1 in l1:\n",
    "        p1 = df1.index.values[0][0]\n",
    "        aux = df1.loc[p1,:2,e,:][\"simbolo\"]\n",
    "        total = aux.shape[0]\n",
    "        for i, t1 in enumerate(aux):\n",
    "            if i % 50 == 0:\n",
    "                print(i, \"de\", total, end=\"\\r\")\n",
    "            p2 = df2.index.values[0][0]\n",
    "            for t2 in df2.loc[p2,:2,e,:][\"simbolo\"]:\n",
    "                a.append(int(t1))\n",
    "                b.append(int(t2))\n",
    "        print()\n",
    "    x = np.array(a)\n",
    "    y = np.array(b)\n",
    "\n",
    "    sns.jointplot(x, y, color=\"k\", xlim=[0, 1900], ylim=[0, 1900])\n",
    "    sns.plt.show() "
   ]
  },
  {
   "cell_type": "code",
   "execution_count": null,
   "metadata": {},
   "outputs": [],
   "source": [
    "a, b = [1,2,3], [4,15,6]\n",
    "x = np.array(a)\n",
    "y = np.array(b)\n",
    "\n",
    "sns.jointplot(x,y)\n",
    "sns.plt.show()"
   ]
  },
  {
   "cell_type": "code",
   "execution_count": null,
   "metadata": {
    "collapsed": true
   },
   "outputs": [],
   "source": [
    "\n",
    "\n",
    "\n",
    "\n",
    "\n",
    "\n",
    "\n",
    "\n",
    "\n",
    "\n"
   ]
  }
 ],
 "metadata": {
  "kernelspec": {
   "display_name": "Python 3",
   "language": "python",
   "name": "python3"
  },
  "language_info": {
   "codemirror_mode": {
    "name": "ipython",
    "version": 3
   },
   "file_extension": ".py",
   "mimetype": "text/x-python",
   "name": "python",
   "nbconvert_exporter": "python",
   "pygments_lexer": "ipython3",
   "version": "3.6.1"
  }
 },
 "nbformat": 4,
 "nbformat_minor": 2
}
