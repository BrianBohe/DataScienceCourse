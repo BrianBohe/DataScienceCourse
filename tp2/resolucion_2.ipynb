{
 "cells": [
  {
   "cell_type": "code",
   "execution_count": 4,
   "metadata": {
    "collapsed": true
   },
   "outputs": [],
   "source": [
    "import pandas as pd\n",
    "import numpy as np\n",
    "import scipy.signal\n",
    "import seaborn as sns\n",
    "import matplotlib.ticker as ticker\n",
    "import itertools\n",
    "import math"
   ]
  },
  {
   "cell_type": "code",
   "execution_count": 5,
   "metadata": {
    "collapsed": true,
    "scrolled": true
   },
   "outputs": [],
   "source": [
    "path = \"/home/francisco/tps/datos/tp2/\"\n",
    "load_path = path + \"{}.hdf\"\n",
    "\n",
    "electrodos = [8, 44, 80, 131, 185]\n",
    "\n",
    "N_P = 3\n",
    "N_S = 3\n",
    "pacientes_P = []\n",
    "pacientes_S = []\n",
    "for load_name, N, dest, offset in [(\"P\", N_P, pacientes_P, 0), (\"S\", N_S, pacientes_S, 10)]:\n",
    "    for i in range(1, 1 + N):\n",
    "        paciente = load_name + \"{:02d}\".format(i)\n",
    "        df_ = pd.read_hdf(load_path.format(paciente))\n",
    "        df_ = df_.loc[offset + i-1,:,electrodos,:]\n",
    "        dest.append(df_)\n"
   ]
  },
  {
   "cell_type": "code",
   "execution_count": 6,
   "metadata": {
    "scrolled": false
   },
   "outputs": [
    {
     "name": "stdout",
     "output_type": "stream",
     "text": [
      "-0.000134124962507 0.000190491369934 (201, 0.00010227410079856466)\n"
     ]
    }
   ],
   "source": [
    "# Calcular N para hacer la transformación simbólica\n",
    "min_value = 2**32\n",
    "max_value = -2**32\n",
    "max_n_sigma = (-1, None)\n",
    "\n",
    "for pacientes in [pacientes_P, pacientes_S]:\n",
    "    for df_paciente in pacientes:\n",
    "        for idx, df_ in df_paciente.groupby([\"paciente\", \"epoch\", \"sensor\"]):\n",
    "            s = df_[\"valores\"]\n",
    "            min_value = min(s.min(), min_value)\n",
    "            max_value = max(s.max(), max_value)\n",
    "            max_n_sigma = max((len(s), s.std()), max_n_sigma)\n",
    "            \n",
    "print(min_value, max_value, max_n_sigma)\n"
   ]
  },
  {
   "cell_type": "code",
   "execution_count": 23,
   "metadata": {},
   "outputs": [
    {
     "name": "stdout",
     "output_type": "stream",
     "text": [
      "19\n",
      "1.80342406912e-05\n"
     ]
    }
   ],
   "source": [
    "N = math.ceil((max_value - min_value) / (max_n_sigma[1] * max_n_sigma[0] ** (-1/3)))\n",
    "print(N)\n",
    "step = (max_value - min_value) / (N-1)\n",
    "print(step)"
   ]
  },
  {
   "cell_type": "code",
   "execution_count": 25,
   "metadata": {},
   "outputs": [],
   "source": [
    "def transformacion_simbolica(v):\n",
    "    simbolos = (v - min_value) // step\n",
    "    simbolos[simbolos == N] = N - 1\n",
    "    return simbolos\n",
    "    \n",
    "for pacientes in [pacientes_P, pacientes_S]:\n",
    "    for df_p in pacientes:\n",
    "        df_p[\"simbolo\"] = df_p.groupby([\"paciente\", \"epoch\", \"sensor\"]).apply(transformacion_simbolica)"
   ]
  },
  {
   "cell_type": "code",
   "execution_count": 34,
   "metadata": {},
   "outputs": [
    {
     "data": {
      "text/html": [
       "<div>\n",
       "<style>\n",
       "    .dataframe thead tr:only-child th {\n",
       "        text-align: right;\n",
       "    }\n",
       "\n",
       "    .dataframe thead th {\n",
       "        text-align: left;\n",
       "    }\n",
       "\n",
       "    .dataframe tbody tr th {\n",
       "        vertical-align: top;\n",
       "    }\n",
       "</style>\n",
       "<table border=\"1\" class=\"dataframe\">\n",
       "  <thead>\n",
       "    <tr style=\"text-align: right;\">\n",
       "      <th></th>\n",
       "      <th></th>\n",
       "      <th></th>\n",
       "      <th></th>\n",
       "      <th>valores</th>\n",
       "      <th>simbolo</th>\n",
       "    </tr>\n",
       "    <tr>\n",
       "      <th>paciente</th>\n",
       "      <th>epoch</th>\n",
       "      <th>sensor</th>\n",
       "      <th>tiempo</th>\n",
       "      <th></th>\n",
       "      <th></th>\n",
       "    </tr>\n",
       "  </thead>\n",
       "  <tbody>\n",
       "    <tr>\n",
       "      <th rowspan=\"5\" valign=\"top\">0</th>\n",
       "      <th rowspan=\"5\" valign=\"top\">0</th>\n",
       "      <th rowspan=\"5\" valign=\"top\">8</th>\n",
       "      <th>0</th>\n",
       "      <td>-2.156435e-06</td>\n",
       "      <td>7.0</td>\n",
       "    </tr>\n",
       "    <tr>\n",
       "      <th>1</th>\n",
       "      <td>-5.516751e-07</td>\n",
       "      <td>7.0</td>\n",
       "    </tr>\n",
       "    <tr>\n",
       "      <th>2</th>\n",
       "      <td>2.121832e-06</td>\n",
       "      <td>7.0</td>\n",
       "    </tr>\n",
       "    <tr>\n",
       "      <th>3</th>\n",
       "      <td>4.735732e-06</td>\n",
       "      <td>7.0</td>\n",
       "    </tr>\n",
       "    <tr>\n",
       "      <th>4</th>\n",
       "      <td>5.841685e-06</td>\n",
       "      <td>7.0</td>\n",
       "    </tr>\n",
       "  </tbody>\n",
       "</table>\n",
       "</div>"
      ],
      "text/plain": [
       "                                   valores  simbolo\n",
       "paciente epoch sensor tiempo                       \n",
       "0        0     8      0      -2.156435e-06      7.0\n",
       "                      1      -5.516751e-07      7.0\n",
       "                      2       2.121832e-06      7.0\n",
       "                      3       4.735732e-06      7.0\n",
       "                      4       5.841685e-06      7.0"
      ]
     },
     "execution_count": 34,
     "metadata": {},
     "output_type": "execute_result"
    }
   ],
   "source": [
    "pacientes_P[0].head()"
   ]
  },
  {
   "cell_type": "code",
   "execution_count": 54,
   "metadata": {
    "scrolled": true
   },
   "outputs": [
    {
     "name": "stdout",
     "output_type": "stream",
     "text": [
      "0\n",
      "1\n",
      "2\n",
      "0\n",
      "1\n",
      "2\n"
     ]
    }
   ],
   "source": [
    "def calcular_informacion(df_):\n",
    "    s = df_[\"simbolo\"]\n",
    "    p_simbolos = [s[s == simb].count() / len(s) for simb in range(N)]\n",
    "    return -sum([p * np.log(p) if p != 0 else 0 for p in p_simbolos])\n",
    "\n",
    "entropias_P = []\n",
    "entropias_S = []\n",
    "for pacientes, entropias in [(pacientes_P, entropias_P), (pacientes_S, entropias_S)]:\n",
    "    for i, df_p in enumerate(pacientes):\n",
    "        print(i)\n",
    "        s_e = df_p.groupby([\"paciente\", \"epoch\", \"sensor\"]).apply(calcular_informacion)\n",
    "        entropias.append(s_e)\n"
   ]
  },
  {
   "cell_type": "code",
   "execution_count": 65,
   "metadata": {},
   "outputs": [],
   "source": [
    "prom_entropias_P = []\n",
    "prom_entropias_S = []\n",
    "for entropias, prom_entropias in [(entropias_P, prom_entropias_P), (entropias_S, prom_entropias_S)]:\n",
    "    for s in entropias:\n",
    "        prom_entropias.append(s.groupby([\"sensor\"]).mean())"
   ]
  },
  {
   "cell_type": "code",
   "execution_count": 72,
   "metadata": {},
   "outputs": [
    {
     "data": {
      "image/png": "[encoded data removed]",
      "text/plain": [
       "<matplotlib.figure.Figure at 0x7fb14bb66ac8>"
      ]
     },
     "metadata": {},
     "output_type": "display_data"
    }
   ],
   "source": [
    "\n",
    "df_punto_a = pd.DataFrame({\n",
    "    \"Entropias\": [x for s in (prom_entropias_P + prom_entropias_S) for x in s.values],\n",
    "    \"Capacidad cognitiva\": [\"Reducida\" for s in prom_entropias_P for x in s.values] + [\"Normal\" for s in prom_entropias_P for x in s.values],\n",
    "    \"Sensor\": [x for s in (prom_entropias_P + prom_entropias_S) for x in s.index]\n",
    "})\n",
    "\n",
    "sns.violinplot(x=\"Sensor\", y=\"Entropias\", hue=\"Capacidad cognitiva\", data=df_punto_a, \n",
    "               split=True, palette=\"Set2\", inner=\"stick\", cut=0)\n",
    "sns.plt.show()"
   ]
  }
 ],
 "metadata": {
  "kernelspec": {
   "display_name": "Python 3",
   "language": "python",
   "name": "python3"
  },
  "language_info": {
   "codemirror_mode": {
    "name": "ipython",
    "version": 3
   },
   "file_extension": ".py",
   "mimetype": "text/x-python",
   "name": "python",
   "nbconvert_exporter": "python",
   "pygments_lexer": "ipython3",
   "version": "3.6.1"
  }
 },
 "nbformat": 4,
 "nbformat_minor": 2
}
