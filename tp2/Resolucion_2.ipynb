{
 "cells": [
  {
   "cell_type": "code",
   "execution_count": null,
   "metadata": {
    "collapsed": true
   },
   "outputs": [],
   "source": [
    "import pandas as pd\n",
    "import numpy as np\n",
    "import scipy.signal\n",
    "import seaborn as sns\n",
    "import matplotlib.ticker as ticker\n",
    "import itertools\n",
    "import math"
   ]
  },
  {
   "cell_type": "code",
   "execution_count": null,
   "metadata": {
    "collapsed": true
   },
   "outputs": [],
   "source": [
    "path = \"/home/francisco/tps/datos/tp2/\"\n",
    "load_path = path + \"{}_transformado.hdf\"\n",
    "\n",
    "N_P = 1\n",
    "N_S = 1\n",
    "pacientes_P = []\n",
    "pacientes_S = []\n",
    "for load_name, N, dest in [(\"P\", N_P, pacientes_P), (\"S\", N_S, pacientes_S)]:\n",
    "    for paciente in [load_name + \"{:02d}\".format(i) for i in range(1, 1 + N)]:\n",
    "        dest.append(pd.read_hdf(load_path.format(paciente)))"
   ]
  },
  {
   "cell_type": "code",
   "execution_count": 3,
   "metadata": {
    "collapsed": true
   },
   "outputs": [],
   "source": [
    "def calcular_delta(d,e):\n",
    "    mean_1_inicial = d[e == e[0]].mean()\n",
    "    mean_2_inicial = d[e != e[0]].mean()\n",
    "    return mean_2_inicial - mean_1_inicial\n",
    "\n",
    "\n",
    "def permutation_test(d,e, n=100):\n",
    "    d0 = calcular_delta(d, e)\n",
    "    deltas = np.zeros(n)\n",
    "    aux_e = e.copy()\n",
    "\n",
    "    for i in range(n):\n",
    "        np.random.shuffle(aux_e)\n",
    "        deltas[i] = calcular_delta(d,aux_e)\n",
    "\n",
    "    return deltas, d0\n",
    "\n",
    "def foo(a, e_a, b, e_b):\n",
    "    e_1 = np.full(a.shape[0], e_a) \n",
    "    e_2 = np.full(b.shape[0], e_b)\n",
    "    e = np.concatenate((e_1, e_2)) \n",
    "    d = np.concatenate((a,b))\n",
    "    return d,e\n",
    "\n",
    "def test_permutacion(soleado, lluvioso):\n",
    "    d, e = foo(soleado, 's', lluvioso, 'l')\n",
    "\n",
    "    # delta-value : la diferencia entre las medias que presenta nuestra información \n",
    "    # p-value es la probabilidad de haber obtenido este delta o mayor\n",
    "\n",
    "    deltas, delta_value = permutation_test(d,e)\n",
    "    p_value =  deltas[deltas >= delta_value].shape[0]/deltas.shape[0]\n",
    "\n",
    "    return p_value\n",
    "\n",
    "def entropia(df_):\n",
    "    return -(df_[\"probabilidad\"] * np.log(df_[\"probabilidad\"]))\n",
    "    "
   ]
  },
  {
   "cell_type": "code",
   "execution_count": null,
   "metadata": {},
   "outputs": [],
   "source": [
    "entropias_P = []\n",
    "entropias_S = []\n",
    "for my_entropy_list, dfs_ in [(entropias_P, pacientes_P), (entropias_S, pacientes_S)]:\n",
    "    for p in dfs_:\n",
    "        entropias = p.groupby([\"epoch\", \"sensor\"]).reset_index(name=\"entropia\")\n",
    "        my_entropy_list.append(entropias[\"entropia\"].mean())\n",
    "        \n",
    "df_entropias = pd.DataFrame({\n",
    "    \"Capacidad cognitiva\": ([\"Reducida\"] * N_P) + ([\"Normal\"] * N_S),\n",
    "    \"Entropia\": entropias_P + entropias_S\n",
    "})\n",
    "\n",
    "ymin = min(df_b['Entropia'])\n",
    "ymax = max(df_b['Entropia'])\n",
    "decimo = (ymax - ymin)/len(df_b['Entropia'])\n",
    "ymin, ymax = ymin - decimo, ymax + decimo\n",
    "\n",
    "sns.barplot(x=\"Capacidad cognitiva\", y=\"Entropia\", data=df_entropias, palette=\"Set2\")\n",
    "ax = sns.swarmplot(x=\"Capacidad cognitiva\", y=\"Entropia\", data=df_entropias, palette=\"Set2\")\n",
    "ax.set_ylim([ymin, ymax])\n",
    "sns.plt.show()\n",
    "\n",
    "\n",
    "p_values = {}            \n",
    "p_values[banda] = test_permutacion(df_entropias[df_entropias['Capacidad cognitiva'] == \"Reducida\"]['Entropia'], \n",
    "                                   df_entropias[df_entropias['Capacidad cognitiva'] == \"Normal\"]['Entropia'])\n",
    "print(\"Probabilidad de que tengan misma media {}\".format(banda, p_values[banda]))\n"
   ]
  }
 ],
 "metadata": {
  "kernelspec": {
   "display_name": "Python 3",
   "language": "python",
   "name": "python3"
  },
  "language_info": {
   "codemirror_mode": {
    "name": "ipython",
    "version": 3
   },
   "file_extension": ".py",
   "mimetype": "text/x-python",
   "name": "python",
   "nbconvert_exporter": "python",
   "pygments_lexer": "ipython3",
   "version": "3.6.1"
  }
 },
 "nbformat": 4,
 "nbformat_minor": 2
}
